{
 "cells": [
  {
   "cell_type": "markdown",
   "metadata": {},
   "source": [
    "## Police Killings\n",
    "\n",
    "The Guardian launched “The Counted,” an impressive interactive database of Americans killed by police since the start of the year. It started in 2015, but you can check the recent stats for 2016. We will explore the data by race, income and state."
   ]
  },
  {
   "cell_type": "markdown",
   "metadata": {},
   "source": [
    "### Assignment\n",
    "\n",
    "- Import the data and examine the head and columns\n",
    "- Get the total counts for each racial grouping\n",
    "- Find the relative % for each racial grouping\n",
    "- How do the killings compare with the overall US breakdown of population by race?"
   ]
  },
  {
   "cell_type": "code",
   "execution_count": 9,
   "metadata": {
    "collapsed": false
   },
   "outputs": [],
   "source": [
    "import pandas as pd\n",
    "\n",
    "police_killings = pd.read_csv(\"police_killings.csv\", encoding=\"ISO-8859-1\")"
   ]
  },
  {
   "cell_type": "code",
   "execution_count": 11,
   "metadata": {
    "collapsed": false
   },
   "outputs": [
    {
     "data": {
      "text/html": [
       "<div>\n",
       "<table border=\"1\" class=\"dataframe\">\n",
       "  <thead>\n",
       "    <tr style=\"text-align: right;\">\n",
       "      <th></th>\n",
       "      <th>name</th>\n",
       "      <th>age</th>\n",
       "      <th>gender</th>\n",
       "      <th>raceethnicity</th>\n",
       "      <th>month</th>\n",
       "      <th>day</th>\n",
       "      <th>year</th>\n",
       "      <th>streetaddress</th>\n",
       "      <th>city</th>\n",
       "      <th>state</th>\n",
       "      <th>...</th>\n",
       "      <th>share_hispanic</th>\n",
       "      <th>p_income</th>\n",
       "      <th>h_income</th>\n",
       "      <th>county_income</th>\n",
       "      <th>comp_income</th>\n",
       "      <th>county_bucket</th>\n",
       "      <th>nat_bucket</th>\n",
       "      <th>pov</th>\n",
       "      <th>urate</th>\n",
       "      <th>college</th>\n",
       "    </tr>\n",
       "  </thead>\n",
       "  <tbody>\n",
       "    <tr>\n",
       "      <th>0</th>\n",
       "      <td>A'donte Washington</td>\n",
       "      <td>16</td>\n",
       "      <td>Male</td>\n",
       "      <td>Black</td>\n",
       "      <td>February</td>\n",
       "      <td>23</td>\n",
       "      <td>2015</td>\n",
       "      <td>Clearview Ln</td>\n",
       "      <td>Millbrook</td>\n",
       "      <td>AL</td>\n",
       "      <td>...</td>\n",
       "      <td>5.6</td>\n",
       "      <td>28375</td>\n",
       "      <td>51367.0</td>\n",
       "      <td>54766</td>\n",
       "      <td>0.937936</td>\n",
       "      <td>3.0</td>\n",
       "      <td>3.0</td>\n",
       "      <td>14.1</td>\n",
       "      <td>0.097686</td>\n",
       "      <td>0.168510</td>\n",
       "    </tr>\n",
       "    <tr>\n",
       "      <th>1</th>\n",
       "      <td>Aaron Rutledge</td>\n",
       "      <td>27</td>\n",
       "      <td>Male</td>\n",
       "      <td>White</td>\n",
       "      <td>April</td>\n",
       "      <td>2</td>\n",
       "      <td>2015</td>\n",
       "      <td>300 block Iris Park Dr</td>\n",
       "      <td>Pineville</td>\n",
       "      <td>LA</td>\n",
       "      <td>...</td>\n",
       "      <td>0.5</td>\n",
       "      <td>14678</td>\n",
       "      <td>27972.0</td>\n",
       "      <td>40930</td>\n",
       "      <td>0.683411</td>\n",
       "      <td>2.0</td>\n",
       "      <td>1.0</td>\n",
       "      <td>28.8</td>\n",
       "      <td>0.065724</td>\n",
       "      <td>0.111402</td>\n",
       "    </tr>\n",
       "    <tr>\n",
       "      <th>2</th>\n",
       "      <td>Aaron Siler</td>\n",
       "      <td>26</td>\n",
       "      <td>Male</td>\n",
       "      <td>White</td>\n",
       "      <td>March</td>\n",
       "      <td>14</td>\n",
       "      <td>2015</td>\n",
       "      <td>22nd Ave and 56th St</td>\n",
       "      <td>Kenosha</td>\n",
       "      <td>WI</td>\n",
       "      <td>...</td>\n",
       "      <td>16.8</td>\n",
       "      <td>25286</td>\n",
       "      <td>45365.0</td>\n",
       "      <td>54930</td>\n",
       "      <td>0.825869</td>\n",
       "      <td>2.0</td>\n",
       "      <td>3.0</td>\n",
       "      <td>14.6</td>\n",
       "      <td>0.166293</td>\n",
       "      <td>0.147312</td>\n",
       "    </tr>\n",
       "    <tr>\n",
       "      <th>3</th>\n",
       "      <td>Aaron Valdez</td>\n",
       "      <td>25</td>\n",
       "      <td>Male</td>\n",
       "      <td>Hispanic/Latino</td>\n",
       "      <td>March</td>\n",
       "      <td>11</td>\n",
       "      <td>2015</td>\n",
       "      <td>3000 Seminole Ave</td>\n",
       "      <td>South Gate</td>\n",
       "      <td>CA</td>\n",
       "      <td>...</td>\n",
       "      <td>98.8</td>\n",
       "      <td>17194</td>\n",
       "      <td>48295.0</td>\n",
       "      <td>55909</td>\n",
       "      <td>0.863814</td>\n",
       "      <td>3.0</td>\n",
       "      <td>3.0</td>\n",
       "      <td>11.7</td>\n",
       "      <td>0.124827</td>\n",
       "      <td>0.050133</td>\n",
       "    </tr>\n",
       "    <tr>\n",
       "      <th>4</th>\n",
       "      <td>Adam Jovicic</td>\n",
       "      <td>29</td>\n",
       "      <td>Male</td>\n",
       "      <td>White</td>\n",
       "      <td>March</td>\n",
       "      <td>19</td>\n",
       "      <td>2015</td>\n",
       "      <td>364 Hiwood Ave</td>\n",
       "      <td>Munroe Falls</td>\n",
       "      <td>OH</td>\n",
       "      <td>...</td>\n",
       "      <td>1.7</td>\n",
       "      <td>33954</td>\n",
       "      <td>68785.0</td>\n",
       "      <td>49669</td>\n",
       "      <td>1.384868</td>\n",
       "      <td>5.0</td>\n",
       "      <td>4.0</td>\n",
       "      <td>1.9</td>\n",
       "      <td>0.063550</td>\n",
       "      <td>0.403954</td>\n",
       "    </tr>\n",
       "  </tbody>\n",
       "</table>\n",
       "<p>5 rows × 34 columns</p>\n",
       "</div>"
      ],
      "text/plain": [
       "                 name age gender    raceethnicity     month  day  year  \\\n",
       "0  A'donte Washington  16   Male            Black  February   23  2015   \n",
       "1      Aaron Rutledge  27   Male            White     April    2  2015   \n",
       "2         Aaron Siler  26   Male            White     March   14  2015   \n",
       "3        Aaron Valdez  25   Male  Hispanic/Latino     March   11  2015   \n",
       "4        Adam Jovicic  29   Male            White     March   19  2015   \n",
       "\n",
       "            streetaddress          city state    ...     share_hispanic  \\\n",
       "0            Clearview Ln     Millbrook    AL    ...                5.6   \n",
       "1  300 block Iris Park Dr     Pineville    LA    ...                0.5   \n",
       "2    22nd Ave and 56th St       Kenosha    WI    ...               16.8   \n",
       "3       3000 Seminole Ave    South Gate    CA    ...               98.8   \n",
       "4          364 Hiwood Ave  Munroe Falls    OH    ...                1.7   \n",
       "\n",
       "   p_income  h_income  county_income  comp_income  county_bucket  nat_bucket  \\\n",
       "0     28375   51367.0          54766     0.937936            3.0         3.0   \n",
       "1     14678   27972.0          40930     0.683411            2.0         1.0   \n",
       "2     25286   45365.0          54930     0.825869            2.0         3.0   \n",
       "3     17194   48295.0          55909     0.863814            3.0         3.0   \n",
       "4     33954   68785.0          49669     1.384868            5.0         4.0   \n",
       "\n",
       "    pov     urate   college  \n",
       "0  14.1  0.097686  0.168510  \n",
       "1  28.8  0.065724  0.111402  \n",
       "2  14.6  0.166293  0.147312  \n",
       "3  11.7  0.124827  0.050133  \n",
       "4   1.9  0.063550  0.403954  \n",
       "\n",
       "[5 rows x 34 columns]"
      ]
     },
     "execution_count": 11,
     "metadata": {},
     "output_type": "execute_result"
    }
   ],
   "source": [
    "police_killings.head()"
   ]
  },
  {
   "cell_type": "code",
   "execution_count": 13,
   "metadata": {
    "collapsed": false
   },
   "outputs": [
    {
     "data": {
      "text/plain": [
       "Index(['name', 'age', 'gender', 'raceethnicity', 'month', 'day', 'year',\n",
       "       'streetaddress', 'city', 'state', 'latitude', 'longitude', 'state_fp',\n",
       "       'county_fp', 'tract_ce', 'geo_id', 'county_id', 'namelsad',\n",
       "       'lawenforcementagency', 'cause', 'armed', 'pop', 'share_white',\n",
       "       'share_black', 'share_hispanic', 'p_income', 'h_income',\n",
       "       'county_income', 'comp_income', 'county_bucket', 'nat_bucket', 'pov',\n",
       "       'urate', 'college'],\n",
       "      dtype='object')"
      ]
     },
     "execution_count": 13,
     "metadata": {},
     "output_type": "execute_result"
    }
   ],
   "source": [
    "police_killings.columns"
   ]
  },
  {
   "cell_type": "code",
   "execution_count": 67,
   "metadata": {
    "collapsed": false
   },
   "outputs": [
    {
     "name": "stdout",
     "output_type": "stream",
     "text": [
      "White                     236\n",
      "Black                     135\n",
      "Hispanic/Latino            67\n",
      "Unknown                    15\n",
      "Asian/Pacific Islander     10\n",
      "Native American             4\n",
      "Name: raceethnicity, dtype: int64\n"
     ]
    }
   ],
   "source": [
    "counts = police_killings['raceethnicity'].value_counts()\n",
    "print(counts)"
   ]
  },
  {
   "cell_type": "code",
   "execution_count": 80,
   "metadata": {
    "collapsed": false
   },
   "outputs": [
    {
     "data": {
      "text/plain": [
       "White                     50.535332\n",
       "Black                     28.907923\n",
       "Hispanic/Latino           14.346895\n",
       "Unknown                    3.211991\n",
       "Asian/Pacific Islander     2.141328\n",
       "Native American            0.856531\n",
       "Name: raceethnicity, dtype: float64"
      ]
     },
     "execution_count": 80,
     "metadata": {},
     "output_type": "execute_result"
    }
   ],
   "source": [
    "rel_per = (counts / sum(counts)) * 100\n",
    "rel_per"
   ]
  },
  {
   "cell_type": "code",
   "execution_count": 83,
   "metadata": {
    "collapsed": false
   },
   "outputs": [
    {
     "data": {
      "text/plain": [
       "White                     26.564668\n",
       "Black                    -15.607923\n",
       "Hispanic/Latino            3.253105\n",
       "Asian/Pacific Islander     3.458672\n",
       "Native American            0.343469\n",
       "dtype: float64"
      ]
     },
     "execution_count": 83,
     "metadata": {},
     "output_type": "execute_result"
    }
   ],
   "source": [
    "# white alone = 77.1%\n",
    "# black alone = 13.3%\n",
    "# hispanic/latino = 17.6%\n",
    "# unknown = ??\n",
    "# asian/pacific islander = 5.6%\n",
    "# native american = 1.2%\n",
    "tot_per = pd.Series([0.771, 0.133, 0.176, 0.056, 0.012], index = ['White', 'Black', 'Hispanic/Latino', 'Asian/Pacific Islander', 'Native American'])\n",
    "tot_per2 = tot_per * 100\n",
    "compare = tot_per2 - rel_per.drop('Unknown')\n",
    "compare"
   ]
  },
  {
   "cell_type": "markdown",
   "metadata": {},
   "source": [
    "# Assignment\n",
    "\n",
    "- Graph the killings by race using a bar chart. Make sure to label the graph and axes\n",
    "- Graph the killings by \"p_income\" using a histogram with different bin amounts (remember to remove any \"-\" values)\n",
    "- Calculate the median \"p_income\""
   ]
  },
  {
   "cell_type": "code",
   "execution_count": 23,
   "metadata": {
    "collapsed": true
   },
   "outputs": [],
   "source": [
    "%matplotlib inline\n",
    "import matplotlib.pyplot as plt"
   ]
  },
  {
   "cell_type": "code",
   "execution_count": 26,
   "metadata": {
    "collapsed": false
   },
   "outputs": [
    {
     "data": {
      "text/plain": [
       "([<matplotlib.axis.XTick at 0x11041a630>,\n",
       "  <matplotlib.axis.XTick at 0x10bb2c0b8>,\n",
       "  <matplotlib.axis.XTick at 0x1103fccc0>,\n",
       "  <matplotlib.axis.XTick at 0x110472e48>,\n",
       "  <matplotlib.axis.XTick at 0x110478860>,\n",
       "  <matplotlib.axis.XTick at 0x11047d278>],\n",
       " <a list of 6 Text xticklabel objects>)"
      ]
     },
     "execution_count": 26,
     "metadata": {},
     "output_type": "execute_result"
    },
    {
     "data": {
      "image/png": "[encoded data removed]",
      "text/plain": [
       "<matplotlib.figure.Figure at 0x11036e2e8>"
      ]
     },
     "metadata": {},
     "output_type": "display_data"
    }
   ],
   "source": [
    "plt.bar(range(6),counts)\n",
    "plt.xticks(range(6),counts.index, rotation=\"vertical\")"
   ]
  },
  {
   "cell_type": "code",
   "execution_count": 30,
   "metadata": {
    "collapsed": false
   },
   "outputs": [
    {
     "data": {
      "text/plain": [
       "<matplotlib.axes._subplots.AxesSubplot at 0x1107a1a58>"
      ]
     },
     "execution_count": 30,
     "metadata": {},
     "output_type": "execute_result"
    },
    {
     "data": {
      "image/png": "[encoded data removed]",
      "text/plain": [
       "<matplotlib.figure.Figure at 0x1105b65c0>"
      ]
     },
     "metadata": {},
     "output_type": "display_data"
    }
   ],
   "source": [
    "police_killings['p_income'][police_killings['p_income'] != '-'].astype(int).hist(bins=20)"
   ]
  },
  {
   "cell_type": "code",
   "execution_count": 31,
   "metadata": {
    "collapsed": false
   },
   "outputs": [
    {
     "data": {
      "text/plain": [
       "22348.0"
      ]
     },
     "execution_count": 31,
     "metadata": {},
     "output_type": "execute_result"
    }
   ],
   "source": [
    "police_killings['p_income'][police_killings['p_income'] != '-'].astype(int).median()"
   ]
  },
  {
   "cell_type": "markdown",
   "metadata": {},
   "source": [
    "### Assignment\n",
    "\n",
    "- Find the total killings per each state\n",
    "- Create a new dataframe and remove any \"-\" from the following columns \"share_white\", \"share_black\" and \"share_hispanic\" \n",
    "- Convert the values in those columns to float types\n",
    "- Find the mean of 'pop', 'county_income' and those 3 columns for the following subsets\n",
    "    \n",
    "    lowest_states = [\"CT\", \"PA\", \"IA\", \"NY\", \"MA\", \"NH\", \"ME\", \"IL\", \"OH\", \"WI\"]\n",
    "    \n",
    "    highest_states = [\"OK\", \"AZ\", \"NE\", \"HI\", \"AK\", \"ID\", \"NM\", \"LA\", \"CO\", \"DE\"]"
   ]
  },
  {
   "cell_type": "code",
   "execution_count": 39,
   "metadata": {
    "collapsed": true
   },
   "outputs": [],
   "source": [
    "lowest_states = [\"CT\", \"PA\", \"IA\", \"NY\", \"MA\", \"NH\", \"ME\", \"IL\", \"OH\", \"WI\"]\n",
    "highest_states = [\"OK\", \"AZ\", \"NE\", \"HI\", \"AK\", \"ID\", \"NM\", \"LA\", \"CO\", \"DE\"]"
   ]
  },
  {
   "cell_type": "code",
   "execution_count": 40,
   "metadata": {
    "collapsed": false
   },
   "outputs": [
    {
     "name": "stdout",
     "output_type": "stream",
     "text": [
      "CA    74\n",
      "TX    46\n",
      "FL    29\n",
      "AZ    25\n",
      "OK    22\n",
      "GA    16\n",
      "NY    14\n",
      "CO    12\n",
      "LA    11\n",
      "WA    11\n",
      "NJ    11\n",
      "IL    11\n",
      "MD    10\n",
      "NC    10\n",
      "OH    10\n",
      "MO    10\n",
      "SC     9\n",
      "VA     9\n",
      "MI     9\n",
      "IN     8\n",
      "AL     8\n",
      "OR     8\n",
      "KY     7\n",
      "PA     7\n",
      "TN     6\n",
      "MN     6\n",
      "MS     6\n",
      "NE     6\n",
      "KS     6\n",
      "NM     5\n",
      "WI     5\n",
      "MA     5\n",
      "UT     5\n",
      "ID     4\n",
      "HI     4\n",
      "AR     4\n",
      "NV     3\n",
      "AK     2\n",
      "WV     2\n",
      "IA     2\n",
      "DE     2\n",
      "MT     2\n",
      "ME     1\n",
      "NH     1\n",
      "CT     1\n",
      "DC     1\n",
      "WY     1\n",
      "Name: state, dtype: int64\n"
     ]
    }
   ],
   "source": [
    "state_counts = police_killings['state'].value_counts()\n",
    "print(state_counts)"
   ]
  },
  {
   "cell_type": "code",
   "execution_count": 59,
   "metadata": {
    "collapsed": false
   },
   "outputs": [],
   "source": [
    "pk = police_killings[\n",
    "    (police_killings['share_white'] != '-') &\n",
    "    (police_killings['share_black'] != '-') &\n",
    "    (police_killings['share_hispanic'] != '-')\n",
    "]"
   ]
  },
  {
   "cell_type": "code",
   "execution_count": 60,
   "metadata": {
    "collapsed": false
   },
   "outputs": [],
   "source": [
    "ls = pk[pk['state'].isin(lowest_states)]\n",
    "hs = pk[pk['state'].isin(highest_states)]"
   ]
  },
  {
   "cell_type": "code",
   "execution_count": 61,
   "metadata": {
    "collapsed": false
   },
   "outputs": [
    {
     "data": {
      "text/plain": [
       "Index(['name', 'age', 'gender', 'raceethnicity', 'month', 'day', 'year',\n",
       "       'streetaddress', 'city', 'state', 'latitude', 'longitude', 'state_fp',\n",
       "       'county_fp', 'tract_ce', 'geo_id', 'county_id', 'namelsad',\n",
       "       'lawenforcementagency', 'cause', 'armed', 'pop', 'share_white',\n",
       "       'share_black', 'share_hispanic', 'p_income', 'h_income',\n",
       "       'county_income', 'comp_income', 'county_bucket', 'nat_bucket', 'pov',\n",
       "       'urate', 'college'],\n",
       "      dtype='object')"
      ]
     },
     "execution_count": 61,
     "metadata": {},
     "output_type": "execute_result"
    }
   ],
   "source": [
    "police_killings.columns"
   ]
  },
  {
   "cell_type": "code",
   "execution_count": 62,
   "metadata": {
    "collapsed": true
   },
   "outputs": [],
   "source": [
    "columns = ['pop', 'county_income', 'share_white', 'share_black', 'share_hispanic']"
   ]
  },
  {
   "cell_type": "code",
   "execution_count": 63,
   "metadata": {
    "collapsed": false
   },
   "outputs": [
    {
     "data": {
      "text/plain": [
       "pop                4201.660714\n",
       "county_income     54830.839286\n",
       "share_white          60.616071\n",
       "share_black          21.257143\n",
       "share_hispanic       12.948214\n",
       "dtype: float64"
      ]
     },
     "execution_count": 63,
     "metadata": {},
     "output_type": "execute_result"
    }
   ],
   "source": [
    "ls[columns].astype(float).mean()"
   ]
  },
  {
   "cell_type": "code",
   "execution_count": 64,
   "metadata": {
    "collapsed": false
   },
   "outputs": [
    {
     "data": {
      "text/plain": [
       "pop                4315.750000\n",
       "county_income     48706.967391\n",
       "share_white          55.652174\n",
       "share_black          11.532609\n",
       "share_hispanic       20.693478\n",
       "dtype: float64"
      ]
     },
     "execution_count": 64,
     "metadata": {},
     "output_type": "execute_result"
    }
   ],
   "source": [
    "hs[columns].astype(float).mean()"
   ]
  }
 ],
 "metadata": {
  "anaconda-cloud": {},
  "kernelspec": {
   "display_name": "Python 3",
   "language": "python",
   "name": "python3"
  },
  "language_info": {
   "codemirror_mode": {
    "name": "ipython",
    "version": 3
   },
   "file_extension": ".py",
   "mimetype": "text/x-python",
   "name": "python",
   "nbconvert_exporter": "python",
   "pygments_lexer": "ipython3",
   "version": "3.6.0"
  }
 },
 "nbformat": 4,
 "nbformat_minor": 0
}
